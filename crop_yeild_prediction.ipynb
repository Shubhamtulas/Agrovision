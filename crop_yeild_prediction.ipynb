{
 "cells": [
  {
   "cell_type": "code",
   "execution_count": 1,
   "id": "1bd8a82b-74df-4cea-b6d4-5d78e4b7fac7",
   "metadata": {},
   "outputs": [],
   "source": [
    "import numpy as np\n",
    "import pandas as pd"
   ]
  },
  {
   "cell_type": "code",
   "execution_count": 2,
   "id": "4f5db299-b6e9-4e73-8bea-20b8b39013be",
   "metadata": {},
   "outputs": [],
   "source": [
    "df = pd.read_csv('crop_data.csv')"
   ]
  },
  {
   "cell_type": "code",
   "execution_count": 7,
   "id": "2cc3226d-dcb9-4892-a716-b99fcf7b116b",
   "metadata": {},
   "outputs": [
    {
     "name": "stdout",
     "output_type": "stream",
     "text": [
      "<class 'pandas.core.frame.DataFrame'>\n",
      "RangeIndex: 246091 entries, 0 to 246090\n",
      "Data columns (total 10 columns):\n",
      " #   Column                         Non-Null Count   Dtype  \n",
      "---  ------                         --------------   -----  \n",
      " 0   State_Name                     246091 non-null  object \n",
      " 1   District_Name                  246091 non-null  object \n",
      " 2   Crop_Year                      246091 non-null  int64  \n",
      " 3   Season                         246091 non-null  object \n",
      " 4   Crop                           246091 non-null  object \n",
      " 5   Area                           246091 non-null  float64\n",
      " 6   Production                     242361 non-null  float64\n",
      " 7   avg_temp                       28242 non-null   float64\n",
      " 8   average_rain_fall_mm_per_year  28242 non-null   float64\n",
      " 9   pesticides_tonnes              28242 non-null   float64\n",
      "dtypes: float64(5), int64(1), object(4)\n",
      "memory usage: 18.8+ MB\n"
     ]
    }
   ],
   "source": [
    "df.info()"
   ]
  },
  {
   "cell_type": "code",
   "execution_count": 9,
   "id": "043c318a-c126-4175-a783-39389131d48b",
   "metadata": {},
   "outputs": [],
   "source": [
    "df = df.dropna(subset = ['avg_temp','average_rain_fall_mm_per_year','pesticides_tonnes'])"
   ]
  },
  {
   "cell_type": "code",
   "execution_count": 10,
   "id": "75a23838-f691-4856-8c52-758cc8d711b4",
   "metadata": {},
   "outputs": [
    {
     "name": "stdout",
     "output_type": "stream",
     "text": [
      "<class 'pandas.core.frame.DataFrame'>\n",
      "Index: 28242 entries, 0 to 28241\n",
      "Data columns (total 10 columns):\n",
      " #   Column                         Non-Null Count  Dtype  \n",
      "---  ------                         --------------  -----  \n",
      " 0   State_Name                     28242 non-null  object \n",
      " 1   District_Name                  28242 non-null  object \n",
      " 2   Crop_Year                      28242 non-null  int64  \n",
      " 3   Season                         28242 non-null  object \n",
      " 4   Crop                           28242 non-null  object \n",
      " 5   Area                           28242 non-null  float64\n",
      " 6   Production                     28165 non-null  float64\n",
      " 7   avg_temp                       28242 non-null  float64\n",
      " 8   average_rain_fall_mm_per_year  28242 non-null  float64\n",
      " 9   pesticides_tonnes              28242 non-null  float64\n",
      "dtypes: float64(5), int64(1), object(4)\n",
      "memory usage: 2.4+ MB\n"
     ]
    }
   ],
   "source": [
    "df.info()"
   ]
  },
  {
   "cell_type": "code",
   "execution_count": 14,
   "id": "79803f25-c877-42c8-8c33-b146f44efd95",
   "metadata": {},
   "outputs": [
    {
     "data": {
      "text/plain": [
       "State_Name                       0\n",
       "District_Name                    0\n",
       "Crop_Year                        0\n",
       "Season                           0\n",
       "Crop                             0\n",
       "Area                             0\n",
       "Production                       0\n",
       "avg_temp                         0\n",
       "average_rain_fall_mm_per_year    0\n",
       "pesticides_tonnes                0\n",
       "dtype: int64"
      ]
     },
     "execution_count": 14,
     "metadata": {},
     "output_type": "execute_result"
    }
   ],
   "source": [
    "df.isnull().sum()\n"
   ]
  },
  {
   "cell_type": "code",
   "execution_count": 13,
   "id": "a37b0e18-1008-42c3-a516-9e4778f88dd3",
   "metadata": {},
   "outputs": [
    {
     "name": "stdout",
     "output_type": "stream",
     "text": [
      "Remaining rows after filtering invalid production/area: 28061\n"
     ]
    }
   ],
   "source": [
    "df = df[df['Production'] > 0]\n",
    "df = df[df['Area'] > 0]\n",
    "print(\"Remaining rows after filtering invalid production/area:\", df.shape[0])\n"
   ]
  },
  {
   "cell_type": "code",
   "execution_count": 15,
   "id": "e81977eb-110d-4706-987d-b4f072909ef2",
   "metadata": {},
   "outputs": [],
   "source": [
    "df['Yield'] = df['Production'] / df['Area']\n"
   ]
  },
  {
   "cell_type": "code",
   "execution_count": 16,
   "id": "a6a8833e-04ff-485d-86cc-9260e603fa77",
   "metadata": {},
   "outputs": [
    {
     "name": "stdout",
     "output_type": "stream",
     "text": [
      "<class 'pandas.core.frame.DataFrame'>\n",
      "Index: 28061 entries, 0 to 28241\n",
      "Data columns (total 11 columns):\n",
      " #   Column                         Non-Null Count  Dtype  \n",
      "---  ------                         --------------  -----  \n",
      " 0   State_Name                     28061 non-null  object \n",
      " 1   District_Name                  28061 non-null  object \n",
      " 2   Crop_Year                      28061 non-null  int64  \n",
      " 3   Season                         28061 non-null  object \n",
      " 4   Crop                           28061 non-null  object \n",
      " 5   Area                           28061 non-null  float64\n",
      " 6   Production                     28061 non-null  float64\n",
      " 7   avg_temp                       28061 non-null  float64\n",
      " 8   average_rain_fall_mm_per_year  28061 non-null  float64\n",
      " 9   pesticides_tonnes              28061 non-null  float64\n",
      " 10  Yield                          28061 non-null  float64\n",
      "dtypes: float64(6), int64(1), object(4)\n",
      "memory usage: 2.6+ MB\n"
     ]
    }
   ],
   "source": [
    "df.info()"
   ]
  },
  {
   "cell_type": "code",
   "execution_count": 20,
   "id": "24e305f3-83d1-419c-8fa8-65a4b5d13cf4",
   "metadata": {},
   "outputs": [],
   "source": [
    "from sklearn.preprocessing import LabelEncoder\n",
    "label_cols = ['State_Name' , 'District_Name' , 'Season' , 'Crop']\n",
    "le = LabelEncoder()\n",
    "\n",
    "for col in label_cols:\n",
    "    df[col] = le.fit_transform(df[col]) # 'State_Name' , 'District_Name' , 'Season' , 'Crop', these are 4 columl which has strings but python linraries which is used in ml doesnot understant string its only understood numerical values,"
   ]
  },
  {
   "cell_type": "code",
   "execution_count": 23,
   "id": "de40c117-7709-4bc3-b335-d1436fdce4d1",
   "metadata": {},
   "outputs": [
    {
     "data": {
      "text/plain": [
       "0        1\n",
       "1        1\n",
       "2        1\n",
       "3        4\n",
       "4        4\n",
       "        ..\n",
       "28237    5\n",
       "28238    0\n",
       "28239    1\n",
       "28240    1\n",
       "28241    1\n",
       "Name: Season, Length: 28061, dtype: int32"
      ]
     },
     "execution_count": 23,
     "metadata": {},
     "output_type": "execute_result"
    }
   ],
   "source": [
    "df['Season']   # Just an example\n"
   ]
  },
  {
   "cell_type": "code",
   "execution_count": null,
   "id": "30f2e5dd-b855-4fbd-bcac-48c0c7862389",
   "metadata": {},
   "outputs": [],
   "source": []
  }
 ],
 "metadata": {
  "kernelspec": {
   "display_name": "Python [conda env:base] *",
   "language": "python",
   "name": "conda-base-py"
  },
  "language_info": {
   "codemirror_mode": {
    "name": "ipython",
    "version": 3
   },
   "file_extension": ".py",
   "mimetype": "text/x-python",
   "name": "python",
   "nbconvert_exporter": "python",
   "pygments_lexer": "ipython3",
   "version": "3.12.7"
  }
 },
 "nbformat": 4,
 "nbformat_minor": 5
}
